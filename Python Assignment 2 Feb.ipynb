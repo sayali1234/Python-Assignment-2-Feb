{
 "cells": [
  {
   "cell_type": "markdown",
   "id": "d5c5f2a0-7863-4540-9692-ad79b4fdb6ea",
   "metadata": {},
   "source": [
    "Q1) Explain with an example each when to use a for loop and a while loop."
   ]
  },
  {
   "cell_type": "code",
   "execution_count": null,
   "id": "be08a70a-de37-4d4f-9839-6e16218b185b",
   "metadata": {},
   "outputs": [],
   "source": [
    "In general, you should use a for loop when you know how many times the loop should run. If you want the loop to break based on a condition other than the number \n",
    "of times it runs, you should use a while loop.\n",
    "for loop is used when the number of iterations is known, whereas execution is done in the while loop until the statement in the program is proved wrong."
   ]
  },
  {
   "cell_type": "code",
   "execution_count": 1,
   "id": "9f3d58d5-0c85-453e-9847-5c3f1e86eda5",
   "metadata": {},
   "outputs": [
    {
     "name": "stdout",
     "output_type": "stream",
     "text": [
      "1 2 3 4 5 6 7 8 9 10 "
     ]
    }
   ],
   "source": [
    "# Printing first 10 natural numbers\n",
    "for i in range(1,11):\n",
    "    print(i,end=\" \")"
   ]
  },
  {
   "cell_type": "code",
   "execution_count": 3,
   "id": "bde3184d-1661-4d6d-9191-36a987813d72",
   "metadata": {},
   "outputs": [
    {
     "name": "stdout",
     "output_type": "stream",
     "text": [
      "6\n"
     ]
    }
   ],
   "source": [
    "# Sum of natural numbers less than 10\n",
    "sum = 0\n",
    "i = 1\n",
    "while sum + i < 10:\n",
    "    sum += i\n",
    "    i += 1\n",
    "print(sum)"
   ]
  },
  {
   "cell_type": "markdown",
   "id": "398ba23f-2fdb-41c7-9dab-0668878cf66e",
   "metadata": {},
   "source": [
    "Q2) Write a python program to print the sum and product of the first 10 natural numbers using for\n",
    "and while loop."
   ]
  },
  {
   "cell_type": "code",
   "execution_count": 5,
   "id": "5c6c75aa-4baf-49ee-b702-728c4e20623f",
   "metadata": {},
   "outputs": [
    {
     "name": "stdout",
     "output_type": "stream",
     "text": [
      "Sum is: 55\n",
      "Product is: 3628800\n"
     ]
    }
   ],
   "source": [
    "# Method1: Using For loop\n",
    "\n",
    "sum = 0\n",
    "product = 1\n",
    "\n",
    "for num in range(1,11):\n",
    "    sum += num\n",
    "    product *= num\n",
    "    \n",
    "print(f\"Sum is: {sum}\")\n",
    "print(f\"Product is: {product}\")"
   ]
  },
  {
   "cell_type": "code",
   "execution_count": 6,
   "id": "9e26d520-56bf-467a-a670-cf27a62e919d",
   "metadata": {},
   "outputs": [
    {
     "name": "stdout",
     "output_type": "stream",
     "text": [
      "Sum is: 55\n",
      "Product is: 3628800\n"
     ]
    }
   ],
   "source": [
    "# Method1: Using While loop\n",
    "\n",
    "sum = 0\n",
    "product = 1\n",
    "num = 1\n",
    "\n",
    "while num <=10 :\n",
    "    sum += num\n",
    "    product *= num\n",
    "    num += 1\n",
    "    \n",
    "print(f\"Sum is: {sum}\")\n",
    "print(f\"Product is: {product}\")"
   ]
  },
  {
   "cell_type": "markdown",
   "id": "4f86d387-47f6-4484-bfad-6ee8ca22e684",
   "metadata": {},
   "source": [
    "Q3) Create a python program to compute the electricity bill for a household.\n",
    " The per-unit charges in rupees are as follows: For the first 100 units, the user will be charged Rs. 4.5 per\n",
    " unit, for the next 100 units, the user will be charged Rs. 6 per unit, and for the next 100 units, the user will\n",
    " be charged Rs. 10 per unit, After 300 units and above the user will be charged Rs. 20 per unit.\n",
    " You are required to take the units of electricity consumed in a month from the user as input.\n",
    " Your program must pass this test case: when the unit of electricity consumed by the user in a month is\n",
    " 310, the total electricity bill should be 2250."
   ]
  },
  {
   "cell_type": "code",
   "execution_count": 7,
   "id": "571801fd-415f-4a68-8a24-2d27568e5cad",
   "metadata": {},
   "outputs": [
    {
     "name": "stdin",
     "output_type": "stream",
     "text": [
      "Enter units:  210\n"
     ]
    },
    {
     "name": "stdout",
     "output_type": "stream",
     "text": [
      "1150.0\n"
     ]
    }
   ],
   "source": [
    "units = int(input(\"Enter units: \"))\n",
    "\n",
    "charge = 0\n",
    "\n",
    "if units <= 100:\n",
    "    charge += units*4.5\n",
    "    \n",
    "elif units <= 200:\n",
    "    charge += 100*4.5 + (units-100)*6\n",
    "    \n",
    "elif units <=300:\n",
    "    charge += 100*4.5 + 100*6 + (units-200)*10\n",
    "    \n",
    "else:\n",
    "    charge += 100*4.5 + 100*6 + 100*10 + (units - 300)*20\n",
    "    \n",
    "print(charge)"
   ]
  },
  {
   "cell_type": "markdown",
   "id": "1114d7e3-08f4-493c-9acc-95f37d914ecf",
   "metadata": {},
   "source": [
    " Q4) Create a list of numbers from 1 to 100. Use for loop and while loop to calculate the cube of each\n",
    " number and if the cube of that number is divisible by 4 or 5 then append that number in a list and print\n",
    "that list."
   ]
  },
  {
   "cell_type": "code",
   "execution_count": 8,
   "id": "bb3d13fa-2143-4617-b4fc-43823f1689f5",
   "metadata": {},
   "outputs": [
    {
     "name": "stdout",
     "output_type": "stream",
     "text": [
      "[8, 64, 125, 216, 512, 1000, 1728, 2744, 3375, 4096, 5832, 8000, 10648, 13824, 15625, 17576, 21952, 27000, 32768, 39304, 42875, 46656, 54872, 64000, 74088, 85184, 91125, 97336, 110592, 125000, 140608, 157464, 166375, 175616, 195112, 216000, 238328, 262144, 274625, 287496, 314432, 343000, 373248, 405224, 421875, 438976, 474552, 512000, 551368, 592704, 614125, 636056, 681472, 729000, 778688, 830584, 857375, 884736, 941192, 1000000]\n"
     ]
    }
   ],
   "source": [
    "# Method1: for loop\n",
    "\n",
    "lst = list(range(1,101))\n",
    "new_lst = []\n",
    "for num in lst:\n",
    "    cube = num**3\n",
    "    if cube % 4 == 0 or cube % 5 == 0:\n",
    "        new_lst.append(cube)\n",
    "        \n",
    "print(new_lst)"
   ]
  },
  {
   "cell_type": "code",
   "execution_count": null,
   "id": "657f42e5-09bc-4aa0-a3b5-b0f44f39408c",
   "metadata": {},
   "outputs": [],
   "source": []
  },
  {
   "cell_type": "markdown",
   "id": "e3278d7f-ac1b-4d8c-9682-9862cae8f825",
   "metadata": {},
   "source": [
    "Q5) Write a program to filter count vowels in the below-given string.\n",
    "string = \"I want to become a data scientist\""
   ]
  },
  {
   "cell_type": "code",
   "execution_count": null,
   "id": "e470d066-973d-4e0d-9c07-99f2b4f85aa3",
   "metadata": {},
   "outputs": [],
   "source": []
  }
 ],
 "metadata": {
  "kernelspec": {
   "display_name": "Python 3 (ipykernel)",
   "language": "python",
   "name": "python3"
  },
  "language_info": {
   "codemirror_mode": {
    "name": "ipython",
    "version": 3
   },
   "file_extension": ".py",
   "mimetype": "text/x-python",
   "name": "python",
   "nbconvert_exporter": "python",
   "pygments_lexer": "ipython3",
   "version": "3.10.8"
  }
 },
 "nbformat": 4,
 "nbformat_minor": 5
}
